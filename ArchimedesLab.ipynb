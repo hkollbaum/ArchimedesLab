{
  "nbformat": 4,
  "nbformat_minor": 0,
  "metadata": {
    "colab": {
      "name": "ArchimedesLab.ipynb",
      "provenance": [],
      "collapsed_sections": []
    },
    "kernelspec": {
      "name": "python3",
      "display_name": "Python 3"
    }
  },
  "cells": [
    {
      "cell_type": "code",
      "metadata": {
        "id": "LaVl1v3sXBs3",
        "outputId": "ec5fc773-a046-434e-c650-aa868a4a8cb1",
        "colab": {
          "base_uri": "https://localhost:8080/"
        }
      },
      "source": [
        "import numpy as np\n",
        "\n",
        "# Rules\n",
        "\n",
        "def Rule1(dA,A,Q): \n",
        "  dQ = Q*(dA/A)     \n",
        "  return dQ\n",
        "\n",
        "def Rule2(Q,m,dA,A):\n",
        "  dQ = Q*m*(dA/A)\n",
        "  return dQ\n",
        "\n",
        "def Rule3(dA,dB):\n",
        "  dQ = np.sqrt(dA**2 + dB**2)\n",
        "  return dQ\n",
        "\n",
        "def Rule4(Q, m, dA, A, n, dB, B):\n",
        "  dQ = Q*np.sqrt((m*(dA/A))**2 + (n*(dB/B))**2)\n",
        "  return dQ\n",
        "\n",
        "#Errors for Part 1\n",
        "\n",
        "waterDensity = Rule4(986.8,1,.00005,.3217,-1,.000001,.000326)\n",
        "print(\"Error of Water Density =\",waterDensity)\n",
        "\n",
        "#1/4\n",
        "vol1 = Rule4(.00000981839,2,.00005,.012775,1,.00005,.01915)\n",
        "buoyF1 = Rule4(.094951,1,waterDensity,986.8,1,vol1,.00000981839)\n",
        "print(\"Error in Buoyant Force of 1/4 cylinder\",buoyF1)\n",
        "#1/2\n",
        "vol2 = Rule4(.0000197137,2,.00005,.012775,1,.00005,.03845)\n",
        "buoyF2 = Rule4(.190646,1,waterDensity,986.8,1,vol2,.0000197137)\n",
        "print(\"Error in Buoyant Force of 1/2 cylinder\",buoyF2)\n",
        "#3/4\n",
        "vol3 = Rule4(.0000291988,2,.00005,.012775,1,.00005,.05695)\n",
        "buoyF3 = Rule4(.190646,1,waterDensity,986.8,1,vol3,.0000291988)\n",
        "print(\"Error in Buoyant Force of 3/4 cylinder\",buoyF3)\n",
        "#full cylinder\n",
        "vol4 = Rule4(.0000396068,2,.00005,.012775,1,.00005,.07725)\n",
        "buoyF4 = Rule4(.190646,1,waterDensity,986.8,1,vol4,.0000396068)\n",
        "print(\"Error in Buoyant Force of full cylinder\",buoyF4)\n",
        "\n",
        "#Errors Part 2\n",
        "errorInitial = Rule1(.00005,.1113,1.091853)\n",
        "#1/4\n",
        "errorW1 = Rule1(.00005,.1113,1.001601)\n",
        "errorFB1 = Rule3(errorInitial,errorW1)\n",
        "print(\"The error in the bouyant force of 1/4 cylinder\",errorFB1)\n",
        "#1/2\n",
        "errorW2 = Rule1(.00005,.1113,.901539)\n",
        "errorFB2 = Rule3(errorInitial,errorW2)\n",
        "print(\"The error in the bouyant force of 1/2 cylinder\",errorFB2)\n",
        "#3/4\n",
        "errorW3 = Rule1(.00005,.1113,.810306)\n",
        "errorFB3 = Rule3(errorInitial,errorW3)\n",
        "print(\"The error in the bouyant force of 3/4 cylinder\",errorFB3)\n",
        "#1\n",
        "errorW4 = Rule1(.00005,.1113,.712206)\n",
        "errorFB4 = Rule3(errorInitial,errorW4)\n",
        "print(\"The error in the bouyant force of full cylinder\",errorFB4)"
      ],
      "execution_count": 6,
      "outputs": [
        {
          "output_type": "stream",
          "text": [
            "Error of Water Density = 3.030876943449965\n",
            "Error in Buoyant Force of 1/4 cylinder 0.0008360274480514441\n",
            "Error in Buoyant Force of 1/2 cylinder 0.0016221600701237652\n",
            "Error in Buoyant Force of 3/4 cylinder 0.00161181821946894\n",
            "Error in Buoyant Force of full cylinder 0.0016078458561508862\n",
            "The error in the bouyant force of 1/4 cylinder 0.000665620180751601\n",
            "The error in the bouyant force of 1/2 cylinder 0.0006360963173521456\n",
            "The error in the bouyant force of 3/4 cylinder 0.0006108191108708496\n",
            "The error in the bouyant force of full cylinder 0.0005856257135256628\n"
          ],
          "name": "stdout"
        }
      ]
    }
  ]
}